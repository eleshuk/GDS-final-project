{
 "cells": [
  {
   "cell_type": "code",
   "execution_count": 8,
   "id": "fc1c8e31-3e1f-4af9-8fff-b340b4c34442",
   "metadata": {},
   "outputs": [],
   "source": [
    "import pandas as pd\n",
    "from datetime import datetime"
   ]
  },
  {
   "cell_type": "code",
   "execution_count": 2,
   "id": "65d51142-995d-4b3c-8206-5ee631549eba",
   "metadata": {},
   "outputs": [],
   "source": [
    "# Read .csv \n",
    "all_weather_data = pd.read_csv(\"/Users/eleshuk/Library/CloudStorage/GoogleDrive-eleshuk@gmail.com/.shortcut-targets-by-id/1XNkQR60z1T7WELqvqkvZchRrVWQpCzvs/data_science_project/Project Template/data/raw/Weather/20241229_all_weather_data.csv\")"
   ]
  },
  {
   "cell_type": "code",
   "execution_count": 9,
   "id": "f4341cb0-fdea-40b8-815f-1084b5eb5e13",
   "metadata": {},
   "outputs": [],
   "source": [
    "# Drop first four columns\n",
    "all_weather_df = all_weather_data.drop(all_weather_data.columns[:4], axis=1)"
   ]
  },
  {
   "cell_type": "code",
   "execution_count": 17,
   "id": "3339b296-dfdf-4f09-a6ae-4fe6d390ade8",
   "metadata": {},
   "outputs": [
    {
     "data": {
      "text/html": [
       "<div>\n",
       "<style scoped>\n",
       "    .dataframe tbody tr th:only-of-type {\n",
       "        vertical-align: middle;\n",
       "    }\n",
       "\n",
       "    .dataframe tbody tr th {\n",
       "        vertical-align: top;\n",
       "    }\n",
       "\n",
       "    .dataframe thead th {\n",
       "        text-align: right;\n",
       "    }\n",
       "</style>\n",
       "<table border=\"1\" class=\"dataframe\">\n",
       "  <thead>\n",
       "    <tr style=\"text-align: right;\">\n",
       "      <th></th>\n",
       "      <th>date</th>\n",
       "      <th>temperature_2m_max</th>\n",
       "      <th>temperature_2m_min</th>\n",
       "      <th>precipitation_sum</th>\n",
       "      <th>municipality</th>\n",
       "      <th>latitude</th>\n",
       "      <th>longitude</th>\n",
       "    </tr>\n",
       "  </thead>\n",
       "  <tbody>\n",
       "    <tr>\n",
       "      <th>1005371</th>\n",
       "      <td>2024-12-25</td>\n",
       "      <td>16.666500</td>\n",
       "      <td>8.766500</td>\n",
       "      <td>0.0</td>\n",
       "      <td>Óbidos</td>\n",
       "      <td>39.36</td>\n",
       "      <td>-9.19</td>\n",
       "    </tr>\n",
       "    <tr>\n",
       "      <th>1005372</th>\n",
       "      <td>2024-12-26</td>\n",
       "      <td>18.116501</td>\n",
       "      <td>8.266500</td>\n",
       "      <td>0.0</td>\n",
       "      <td>Óbidos</td>\n",
       "      <td>39.36</td>\n",
       "      <td>-9.19</td>\n",
       "    </tr>\n",
       "    <tr>\n",
       "      <th>1005373</th>\n",
       "      <td>2024-12-27</td>\n",
       "      <td>16.366501</td>\n",
       "      <td>7.516500</td>\n",
       "      <td>0.0</td>\n",
       "      <td>Óbidos</td>\n",
       "      <td>39.36</td>\n",
       "      <td>-9.19</td>\n",
       "    </tr>\n",
       "    <tr>\n",
       "      <th>1005374</th>\n",
       "      <td>2024-12-28</td>\n",
       "      <td>8.966499</td>\n",
       "      <td>8.966499</td>\n",
       "      <td>NaN</td>\n",
       "      <td>Óbidos</td>\n",
       "      <td>39.36</td>\n",
       "      <td>-9.19</td>\n",
       "    </tr>\n",
       "    <tr>\n",
       "      <th>1005375</th>\n",
       "      <td>2024-12-29</td>\n",
       "      <td>NaN</td>\n",
       "      <td>NaN</td>\n",
       "      <td>NaN</td>\n",
       "      <td>Óbidos</td>\n",
       "      <td>39.36</td>\n",
       "      <td>-9.19</td>\n",
       "    </tr>\n",
       "  </tbody>\n",
       "</table>\n",
       "</div>"
      ],
      "text/plain": [
       "               date  temperature_2m_max  temperature_2m_min  \\\n",
       "1005371  2024-12-25           16.666500            8.766500   \n",
       "1005372  2024-12-26           18.116501            8.266500   \n",
       "1005373  2024-12-27           16.366501            7.516500   \n",
       "1005374  2024-12-28            8.966499            8.966499   \n",
       "1005375  2024-12-29                 NaN                 NaN   \n",
       "\n",
       "         precipitation_sum municipality  latitude  longitude  \n",
       "1005371                0.0       Óbidos     39.36      -9.19  \n",
       "1005372                0.0       Óbidos     39.36      -9.19  \n",
       "1005373                0.0       Óbidos     39.36      -9.19  \n",
       "1005374                NaN       Óbidos     39.36      -9.19  \n",
       "1005375                NaN       Óbidos     39.36      -9.19  "
      ]
     },
     "execution_count": 17,
     "metadata": {},
     "output_type": "execute_result"
    }
   ],
   "source": [
    "all_weather_df['date'] = pd.to_datetime(all_weather_df['date']).dt.strftime('%Y-%m-%d')"
   ]
  },
  {
   "cell_type": "code",
   "execution_count": 15,
   "id": "59676101-28d8-40a9-ab06-438d0c022824",
   "metadata": {},
   "outputs": [],
   "source": [
    "# Write to .csv\n",
    "path = \"/Users/eleshuk/Library/CloudStorage/GoogleDrive-eleshuk@gmail.com/.shortcut-targets-by-id/1XNkQR60z1T7WELqvqkvZchRrVWQpCzvs/data_science_project/Project Template/data/processed/Weather/cleaned_weather_data.csv\"\n",
    "all_weather_df.to_csv(path)"
   ]
  },
  {
   "cell_type": "code",
   "execution_count": null,
   "id": "4d909b37-0d2b-426b-bb88-b7d014871e34",
   "metadata": {},
   "outputs": [],
   "source": []
  }
 ],
 "metadata": {
  "kernelspec": {
   "display_name": "Python 3 (ipykernel)",
   "language": "python",
   "name": "python3"
  },
  "language_info": {
   "codemirror_mode": {
    "name": "ipython",
    "version": 3
   },
   "file_extension": ".py",
   "mimetype": "text/x-python",
   "name": "python",
   "nbconvert_exporter": "python",
   "pygments_lexer": "ipython3",
   "version": "3.12.6"
  }
 },
 "nbformat": 4,
 "nbformat_minor": 5
}
