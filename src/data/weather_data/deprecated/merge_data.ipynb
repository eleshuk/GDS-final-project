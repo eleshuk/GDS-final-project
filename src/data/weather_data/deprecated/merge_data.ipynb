{
 "cells": [
  {
   "cell_type": "code",
   "execution_count": 1,
   "id": "50aa8dc5-c0cd-4d57-9a66-61c4ce37a841",
   "metadata": {},
   "outputs": [],
   "source": [
    "import pandas as pd"
   ]
  },
  {
   "cell_type": "code",
   "execution_count": 2,
   "id": "8a2fd336-e959-43c6-89f7-7f0cff2488e4",
   "metadata": {},
   "outputs": [],
   "source": [
    "# Sunrise/sunset data\n",
    "file_path = \"/Users/eleshuk/Library/CloudStorage/GoogleDrive-eleshuk@gmail.com/.shortcut-targets-by-id/1XNkQR60z1T7WELqvqkvZchRrVWQpCzvs/data_science_project/Project Template/data/raw/sunset_sunrise.csv\"\n",
    "sun_data = pd.read_csv(file_path)"
   ]
  },
  {
   "cell_type": "code",
   "execution_count": 6,
   "id": "1454e935-e67a-483a-b020-c621951e33c1",
   "metadata": {},
   "outputs": [],
   "source": [
    "weather_file = \"/Users/eleshuk/Library/CloudStorage/GoogleDrive-eleshuk@gmail.com/.shortcut-targets-by-id/1XNkQR60z1T7WELqvqkvZchRrVWQpCzvs/data_science_project/Project Template/data/raw/raw_historical_weather_data.csv\"\n",
    "weather_data = pd.read_csv(weather_file)"
   ]
  },
  {
   "cell_type": "code",
   "execution_count": 15,
   "id": "e5f87755-ccbe-4c3d-a5f3-5ed4152a5653",
   "metadata": {},
   "outputs": [
    {
     "data": {
      "text/html": [
       "<div>\n",
       "<style scoped>\n",
       "    .dataframe tbody tr th:only-of-type {\n",
       "        vertical-align: middle;\n",
       "    }\n",
       "\n",
       "    .dataframe tbody tr th {\n",
       "        vertical-align: top;\n",
       "    }\n",
       "\n",
       "    .dataframe thead th {\n",
       "        text-align: right;\n",
       "    }\n",
       "</style>\n",
       "<table border=\"1\" class=\"dataframe\">\n",
       "  <thead>\n",
       "    <tr style=\"text-align: right;\">\n",
       "      <th></th>\n",
       "      <th>Unnamed: 0</th>\n",
       "      <th>date</th>\n",
       "      <th>sunrise</th>\n",
       "      <th>sunset</th>\n",
       "    </tr>\n",
       "  </thead>\n",
       "  <tbody>\n",
       "    <tr>\n",
       "      <th>12761</th>\n",
       "      <td>12761</td>\n",
       "      <td>2024-12-10</td>\n",
       "      <td>2024-12-10T07:40:50+00:00</td>\n",
       "      <td>2024-12-10T17:10:58+00:00</td>\n",
       "    </tr>\n",
       "    <tr>\n",
       "      <th>12762</th>\n",
       "      <td>12762</td>\n",
       "      <td>2024-12-11</td>\n",
       "      <td>2024-12-11T07:41:37+00:00</td>\n",
       "      <td>2024-12-11T17:11:06+00:00</td>\n",
       "    </tr>\n",
       "    <tr>\n",
       "      <th>12763</th>\n",
       "      <td>12763</td>\n",
       "      <td>2024-12-12</td>\n",
       "      <td>2024-12-12T07:42:23+00:00</td>\n",
       "      <td>2024-12-12T17:11:16+00:00</td>\n",
       "    </tr>\n",
       "    <tr>\n",
       "      <th>12764</th>\n",
       "      <td>12764</td>\n",
       "      <td>2024-12-13</td>\n",
       "      <td>2024-12-13T07:43:07+00:00</td>\n",
       "      <td>2024-12-13T17:11:29+00:00</td>\n",
       "    </tr>\n",
       "    <tr>\n",
       "      <th>12765</th>\n",
       "      <td>12765</td>\n",
       "      <td>2024-12-14</td>\n",
       "      <td>2024-12-14T07:43:50+00:00</td>\n",
       "      <td>2024-12-14T17:11:43+00:00</td>\n",
       "    </tr>\n",
       "  </tbody>\n",
       "</table>\n",
       "</div>"
      ],
      "text/plain": [
       "       Unnamed: 0        date                    sunrise  \\\n",
       "12761       12761  2024-12-10  2024-12-10T07:40:50+00:00   \n",
       "12762       12762  2024-12-11  2024-12-11T07:41:37+00:00   \n",
       "12763       12763  2024-12-12  2024-12-12T07:42:23+00:00   \n",
       "12764       12764  2024-12-13  2024-12-13T07:43:07+00:00   \n",
       "12765       12765  2024-12-14  2024-12-14T07:43:50+00:00   \n",
       "\n",
       "                          sunset  \n",
       "12761  2024-12-10T17:10:58+00:00  \n",
       "12762  2024-12-11T17:11:06+00:00  \n",
       "12763  2024-12-12T17:11:16+00:00  \n",
       "12764  2024-12-13T17:11:29+00:00  \n",
       "12765  2024-12-14T17:11:43+00:00  "
      ]
     },
     "execution_count": 15,
     "metadata": {},
     "output_type": "execute_result"
    }
   ],
   "source": []
  },
  {
   "cell_type": "code",
   "execution_count": null,
   "id": "2ff379d6-286e-4878-8cbd-edde0c1e7096",
   "metadata": {},
   "outputs": [],
   "source": []
  }
 ],
 "metadata": {
  "kernelspec": {
   "display_name": "Python 3 (ipykernel)",
   "language": "python",
   "name": "python3"
  },
  "language_info": {
   "codemirror_mode": {
    "name": "ipython",
    "version": 3
   },
   "file_extension": ".py",
   "mimetype": "text/x-python",
   "name": "python",
   "nbconvert_exporter": "python",
   "pygments_lexer": "ipython3",
   "version": "3.12.6"
  }
 },
 "nbformat": 4,
 "nbformat_minor": 5
}
