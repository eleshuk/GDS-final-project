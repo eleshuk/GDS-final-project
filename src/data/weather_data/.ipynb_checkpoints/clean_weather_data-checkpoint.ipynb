{
 "cells": [
  {
   "cell_type": "code",
<<<<<<< HEAD
   "execution_count": 28,
   "id": "e10fd2e9-6ece-490d-9467-4fa18b9bf7ff",
   "metadata": {},
   "outputs": [],
   "source": [
    "# !pip install pyyaml"
   ]
  },
  {
   "cell_type": "code",
   "execution_count": 46,
=======
   "execution_count": 16,
>>>>>>> origin/el_features
   "id": "c3d494e8-f637-406a-a0f3-1a936e5bf177",
   "metadata": {},
   "outputs": [],
   "source": [
    "import pandas as pd\n",
<<<<<<< HEAD
    "from datetime import datetime\n",
    "import yaml\n",
    "import os"
=======
    "from datetime import datetime"
>>>>>>> origin/el_features
   ]
  },
  {
   "cell_type": "code",
<<<<<<< HEAD
   "execution_count": 63,
   "id": "c7100732-a656-4556-940f-1d73adfae9f4",
   "metadata": {},
   "outputs": [],
   "source": [
    "# Relative path to the root-level file\n",
    "config_path = os.path.join(\"..\", \"..\", \"..\", \"config.yml\")\n",
    "with open(config_path, \"r\") as file:\n",
    "    config = yaml.safe_load(file)"
   ]
  },
  {
   "cell_type": "code",
   "execution_count": 48,
=======
   "execution_count": 17,
>>>>>>> origin/el_features
   "id": "03fd7eb3-16f5-4b3c-b771-673661faec89",
   "metadata": {},
   "outputs": [],
   "source": [
<<<<<<< HEAD
    "raw_data_filepath = config['raw_data']\n",
    "sunset_sunrise_filepath = raw_data_filepath+\"sunset_sunrise.csv\"\n",
    "weather_filepath = raw_data_filepath+\"raw_historical_weather_data.csv\""
=======
    "sunset_sunrise_filepath = \"/Users/eleshuk/Library/CloudStorage/GoogleDrive-eleshuk@gmail.com/.shortcut-targets-by-id/1XNkQR60z1T7WELqvqkvZchRrVWQpCzvs/data_science_project/Project Template/data/raw/sunset_sunrise.csv\"\n",
    "weather_filepath = \"/Users/eleshuk/Library/CloudStorage/GoogleDrive-eleshuk@gmail.com/.shortcut-targets-by-id/1XNkQR60z1T7WELqvqkvZchRrVWQpCzvs/data_science_project/Project Template/data/raw/raw_historical_weather_data.csv\""
>>>>>>> origin/el_features
   ]
  },
  {
   "cell_type": "code",
<<<<<<< HEAD
   "execution_count": 49,
=======
   "execution_count": 18,
>>>>>>> origin/el_features
   "id": "c1713887-e9f1-4973-aeca-9a0c269f6ddc",
   "metadata": {},
   "outputs": [],
   "source": [
    "# Combine day/night data with temperature data\n",
    "# Read in both dfs\n",
<<<<<<< HEAD
    "sunset_sunrise = pd.read_csv(sunset_sunrise_filepath, index_col=None)\n",
=======
    "sunset_sunrise = pd.read_csv(sunset_sunrise_filepath)\n",
>>>>>>> origin/el_features
    "weather_data = pd.read_csv(weather_filepath)"
   ]
  },
  {
   "cell_type": "code",
<<<<<<< HEAD
   "execution_count": 50,
   "id": "222204fb-a230-4e09-bdc6-342f5c6667bf",
   "metadata": {},
   "outputs": [],
   "source": [
    "sunset_sunrise = sunset_sunrise.drop(columns=[\"Unnamed: 0\"])"
   ]
  },
  {
   "cell_type": "code",
   "execution_count": 51,
=======
   "execution_count": 19,
>>>>>>> origin/el_features
   "id": "eea29ac6-13b8-4373-8740-adbd69c89b43",
   "metadata": {},
   "outputs": [],
   "source": [
<<<<<<< HEAD
=======
    "weather_copy = weather_data.copy()\n",
>>>>>>> origin/el_features
    "clean_weather = weather_data.dropna()"
   ]
  },
  {
   "cell_type": "code",
<<<<<<< HEAD
   "execution_count": 52,
=======
   "execution_count": 8,
>>>>>>> origin/el_features
   "id": "5bbed177-4c84-4f44-8d0a-bbf8a718546f",
   "metadata": {},
   "outputs": [],
   "source": [
    "# Convert 'sunrise' and 'sunset' to datetime with timezone-awareness (e.g., UTC)\n",
    "sunset_sunrise['sunrise'] = pd.to_datetime(sunset_sunrise['sunrise'], utc=True)\n",
    "sunset_sunrise['sunset'] = pd.to_datetime(sunset_sunrise['sunset'], utc=True)\n",
    "sunset_sunrise['date'] = pd.to_datetime(sunset_sunrise['date']).dt.date"
   ]
  },
  {
   "cell_type": "code",
<<<<<<< HEAD
   "execution_count": 53,
=======
   "execution_count": 11,
>>>>>>> origin/el_features
   "id": "cadee247-3485-4ce2-9861-adf1b2e17ddd",
   "metadata": {},
   "outputs": [],
   "source": [
    "# Create column \"timestamp\"\n",
<<<<<<< HEAD
    "clean_weather = clean_weather.copy()\n",
=======
>>>>>>> origin/el_features
    "clean_weather.loc[:, 'timestamp'] = pd.to_datetime(clean_weather['date'])"
   ]
  },
  {
   "cell_type": "code",
<<<<<<< HEAD
   "execution_count": 54,
=======
   "execution_count": 12,
>>>>>>> origin/el_features
   "id": "015f13c4-b764-4d33-845e-cde151f99167",
   "metadata": {},
   "outputs": [],
   "source": [
    "# Convert date column to match sunrise data\n",
<<<<<<< HEAD
    "clean_weather.loc[:, 'date'] = pd.to_datetime(clean_weather['date']).dt.strftime('%Y-%m-%d')\n",
    "# clean_weather['date'] = pd.to_datetime(clean_weather['date'])"
=======
    "clean_weather.loc[:, 'date'] = pd.to_datetime(clean_weather['date']).dt.strftime('%Y-%m-%d')"
>>>>>>> origin/el_features
   ]
  },
  {
   "cell_type": "code",
<<<<<<< HEAD
   "execution_count": 55,
   "id": "741d7285-f78c-4577-9eef-a85fd7e97661",
   "metadata": {},
   "outputs": [],
   "source": [
    "clean_weather['date'] = pd.to_datetime(clean_weather['date'])\n",
    "sunset_sunrise['date'] = pd.to_datetime(sunset_sunrise['date'])"
   ]
  },
  {
   "cell_type": "code",
   "execution_count": 56,
   "id": "e360dd42-14a0-4386-bbef-94c9a2a86ca9",
   "metadata": {},
   "outputs": [],
   "source": [
    "# sunset_sunrise['date'] = pd.to_datetime(sunset_sunrise['date'])"
   ]
  },
  {
   "cell_type": "code",
   "execution_count": 57,
=======
   "execution_count": 15,
>>>>>>> origin/el_features
   "id": "dcac38a2-067d-4871-9aeb-233a6b83f873",
   "metadata": {},
   "outputs": [
    {
     "data": {
      "text/html": [
       "<div>\n",
       "<style scoped>\n",
       "    .dataframe tbody tr th:only-of-type {\n",
       "        vertical-align: middle;\n",
       "    }\n",
       "\n",
       "    .dataframe tbody tr th {\n",
       "        vertical-align: top;\n",
       "    }\n",
       "\n",
       "    .dataframe thead th {\n",
       "        text-align: right;\n",
       "    }\n",
       "</style>\n",
       "<table border=\"1\" class=\"dataframe\">\n",
       "  <thead>\n",
       "    <tr style=\"text-align: right;\">\n",
       "      <th></th>\n",
       "      <th>date</th>\n",
       "      <th>temperature_2m</th>\n",
       "      <th>relative_humidity_2m</th>\n",
       "      <th>timestamp</th>\n",
<<<<<<< HEAD
=======
       "      <th>Unnamed: 0</th>\n",
>>>>>>> origin/el_features
       "      <th>sunrise</th>\n",
       "      <th>sunset</th>\n",
       "    </tr>\n",
       "  </thead>\n",
       "  <tbody>\n",
<<<<<<< HEAD
       "    <tr>\n",
       "      <th>0</th>\n",
       "      <td>1990-01-01</td>\n",
       "      <td>9.4725</td>\n",
       "      <td>98.002426</td>\n",
       "      <td>1990-01-01 00:00:00+00:00</td>\n",
       "      <td>1990-01-01 07:51:27+00:00</td>\n",
       "      <td>1990-01-01 17:21:24+00:00</td>\n",
       "    </tr>\n",
       "    <tr>\n",
       "      <th>1</th>\n",
       "      <td>1990-01-01</td>\n",
       "      <td>9.4725</td>\n",
       "      <td>98.332886</td>\n",
       "      <td>1990-01-01 01:00:00+00:00</td>\n",
       "      <td>1990-01-01 07:51:27+00:00</td>\n",
       "      <td>1990-01-01 17:21:24+00:00</td>\n",
       "    </tr>\n",
       "    <tr>\n",
       "      <th>2</th>\n",
       "      <td>1990-01-01</td>\n",
       "      <td>9.5725</td>\n",
       "      <td>98.665380</td>\n",
       "      <td>1990-01-01 02:00:00+00:00</td>\n",
       "      <td>1990-01-01 07:51:27+00:00</td>\n",
       "      <td>1990-01-01 17:21:24+00:00</td>\n",
       "    </tr>\n",
       "    <tr>\n",
       "      <th>3</th>\n",
       "      <td>1990-01-01</td>\n",
       "      <td>9.8225</td>\n",
       "      <td>98.668015</td>\n",
       "      <td>1990-01-01 03:00:00+00:00</td>\n",
       "      <td>1990-01-01 07:51:27+00:00</td>\n",
       "      <td>1990-01-01 17:21:24+00:00</td>\n",
       "    </tr>\n",
       "    <tr>\n",
       "      <th>4</th>\n",
       "      <td>1990-01-01</td>\n",
       "      <td>10.0225</td>\n",
       "      <td>98.670100</td>\n",
       "      <td>1990-01-01 04:00:00+00:00</td>\n",
       "      <td>1990-01-01 07:51:27+00:00</td>\n",
       "      <td>1990-01-01 17:21:24+00:00</td>\n",
       "    </tr>\n",
       "    <tr>\n",
       "      <th>...</th>\n",
       "      <td>...</td>\n",
       "      <td>...</td>\n",
       "      <td>...</td>\n",
       "      <td>...</td>\n",
       "      <td>...</td>\n",
       "      <td>...</td>\n",
       "    </tr>\n",
       "    <tr>\n",
       "      <th>306332</th>\n",
       "      <td>2024-12-12</td>\n",
       "      <td>6.4660</td>\n",
       "      <td>87.046310</td>\n",
       "      <td>2024-12-12 20:00:00+00:00</td>\n",
       "      <td>2024-12-12 07:42:23+00:00</td>\n",
       "      <td>2024-12-12 17:11:16+00:00</td>\n",
       "    </tr>\n",
       "    <tr>\n",
       "      <th>306333</th>\n",
       "      <td>2024-12-12</td>\n",
       "      <td>5.7160</td>\n",
       "      <td>89.451280</td>\n",
       "      <td>2024-12-12 21:00:00+00:00</td>\n",
       "      <td>2024-12-12 07:42:23+00:00</td>\n",
       "      <td>2024-12-12 17:11:16+00:00</td>\n",
       "    </tr>\n",
       "    <tr>\n",
       "      <th>306334</th>\n",
       "      <td>2024-12-12</td>\n",
       "      <td>5.5160</td>\n",
       "      <td>89.749730</td>\n",
       "      <td>2024-12-12 22:00:00+00:00</td>\n",
       "      <td>2024-12-12 07:42:23+00:00</td>\n",
       "      <td>2024-12-12 17:11:16+00:00</td>\n",
       "    </tr>\n",
       "    <tr>\n",
       "      <th>306335</th>\n",
       "      <td>2024-12-12</td>\n",
       "      <td>5.2160</td>\n",
       "      <td>90.359660</td>\n",
       "      <td>2024-12-12 23:00:00+00:00</td>\n",
       "      <td>2024-12-12 07:42:23+00:00</td>\n",
       "      <td>2024-12-12 17:11:16+00:00</td>\n",
       "    </tr>\n",
       "    <tr>\n",
       "      <th>306336</th>\n",
       "      <td>2024-12-13</td>\n",
       "      <td>4.1660</td>\n",
       "      <td>92.547386</td>\n",
       "      <td>2024-12-13 00:00:00+00:00</td>\n",
       "      <td>2024-12-13 07:43:07+00:00</td>\n",
       "      <td>2024-12-13 17:11:29+00:00</td>\n",
       "    </tr>\n",
       "  </tbody>\n",
       "</table>\n",
       "<p>306337 rows × 6 columns</p>\n",
       "</div>"
      ],
      "text/plain": [
       "             date  temperature_2m  relative_humidity_2m  \\\n",
       "0      1990-01-01          9.4725             98.002426   \n",
       "1      1990-01-01          9.4725             98.332886   \n",
       "2      1990-01-01          9.5725             98.665380   \n",
       "3      1990-01-01          9.8225             98.668015   \n",
       "4      1990-01-01         10.0225             98.670100   \n",
       "...           ...             ...                   ...   \n",
       "306332 2024-12-12          6.4660             87.046310   \n",
       "306333 2024-12-12          5.7160             89.451280   \n",
       "306334 2024-12-12          5.5160             89.749730   \n",
       "306335 2024-12-12          5.2160             90.359660   \n",
       "306336 2024-12-13          4.1660             92.547386   \n",
       "\n",
       "                       timestamp                   sunrise  \\\n",
       "0      1990-01-01 00:00:00+00:00 1990-01-01 07:51:27+00:00   \n",
       "1      1990-01-01 01:00:00+00:00 1990-01-01 07:51:27+00:00   \n",
       "2      1990-01-01 02:00:00+00:00 1990-01-01 07:51:27+00:00   \n",
       "3      1990-01-01 03:00:00+00:00 1990-01-01 07:51:27+00:00   \n",
       "4      1990-01-01 04:00:00+00:00 1990-01-01 07:51:27+00:00   \n",
       "...                          ...                       ...   \n",
       "306332 2024-12-12 20:00:00+00:00 2024-12-12 07:42:23+00:00   \n",
       "306333 2024-12-12 21:00:00+00:00 2024-12-12 07:42:23+00:00   \n",
       "306334 2024-12-12 22:00:00+00:00 2024-12-12 07:42:23+00:00   \n",
       "306335 2024-12-12 23:00:00+00:00 2024-12-12 07:42:23+00:00   \n",
       "306336 2024-12-13 00:00:00+00:00 2024-12-13 07:43:07+00:00   \n",
       "\n",
       "                          sunset  \n",
       "0      1990-01-01 17:21:24+00:00  \n",
       "1      1990-01-01 17:21:24+00:00  \n",
       "2      1990-01-01 17:21:24+00:00  \n",
       "3      1990-01-01 17:21:24+00:00  \n",
       "4      1990-01-01 17:21:24+00:00  \n",
       "...                          ...  \n",
       "306332 2024-12-12 17:11:16+00:00  \n",
       "306333 2024-12-12 17:11:16+00:00  \n",
       "306334 2024-12-12 17:11:16+00:00  \n",
       "306335 2024-12-12 17:11:16+00:00  \n",
       "306336 2024-12-13 17:11:29+00:00  \n",
       "\n",
       "[306337 rows x 6 columns]"
      ]
     },
     "execution_count": 57,
=======
       "  </tbody>\n",
       "</table>\n",
       "</div>"
      ],
      "text/plain": [
       "Empty DataFrame\n",
       "Columns: [date, temperature_2m, relative_humidity_2m, timestamp, Unnamed: 0, sunrise, sunset]\n",
       "Index: []"
      ]
     },
     "execution_count": 15,
>>>>>>> origin/el_features
     "metadata": {},
     "output_type": "execute_result"
    }
   ],
   "source": [
    "# Merge data\n",
<<<<<<< HEAD
    "merged_data = pd.merge(clean_weather, sunset_sunrise, on='date', how='inner')\n",
    "# merged_data"
=======
    "merged_data = pd.merge(clean_weather, sunset_sunrise, on='date', how='inner')"
>>>>>>> origin/el_features
   ]
  },
  {
   "cell_type": "code",
<<<<<<< HEAD
   "execution_count": 58,
=======
   "execution_count": 32,
   "id": "e5570987-6940-4a9f-a573-a6ead490aad5",
   "metadata": {},
   "outputs": [],
   "source": [
    "# merged_data = pd.merge(weather_data, sunset_sunrise, on='date', how='outer')\n",
    "# merged_data.tail(100)"
   ]
  },
  {
   "cell_type": "code",
   "execution_count": 35,
   "id": "129174d7-3f12-42e9-863e-acda741936cd",
   "metadata": {},
   "outputs": [
    {
     "data": {
      "text/plain": [
       "date                     object\n",
       "temperature_2m          float64\n",
       "relative_humidity_2m    float64\n",
       "timestamp                object\n",
       "Unnamed: 0                int64\n",
       "sunrise                  object\n",
       "sunset                   object\n",
       "dtype: object"
      ]
     },
     "execution_count": 35,
     "metadata": {},
     "output_type": "execute_result"
    }
   ],
   "source": [
    "merged_data.dtypes"
   ]
  },
  {
   "cell_type": "code",
   "execution_count": 33,
>>>>>>> origin/el_features
   "id": "60e125e8-f1fb-4651-815c-ff31a5d88898",
   "metadata": {},
   "outputs": [],
   "source": [
    "def classify_day_night(row):\n",
    "    # Ensure sunrise, sunset, and timestamp are tz-aware (they should already be if you followed the above steps)\n",
    "    sunrise = row['sunrise']\n",
    "    sunset = row['sunset']\n",
    "    timestamp = row['timestamp']\n",
    "    \n",
    "    # Classify as 'day' or 'night'\n",
    "    if sunrise <= timestamp < sunset:\n",
    "        return 'day'\n",
    "    else:\n",
    "        return 'night'"
   ]
  },
  {
   "cell_type": "code",
<<<<<<< HEAD
   "execution_count": 59,
   "id": "e46a39b5-c19a-43e6-929e-43440055d38c",
   "metadata": {},
   "outputs": [],
   "source": [
    "# Add column that sets day or night value based on sunset on that day\n",
=======
   "execution_count": 34,
   "id": "e46a39b5-c19a-43e6-929e-43440055d38c",
   "metadata": {},
   "outputs": [
    {
     "ename": "TypeError",
     "evalue": "'<=' not supported between instances of 'str' and 'Timestamp'",
     "output_type": "error",
     "traceback": [
      "\u001b[0;31m---------------------------------------------------------------------------\u001b[0m",
      "\u001b[0;31mTypeError\u001b[0m                                 Traceback (most recent call last)",
      "Cell \u001b[0;32mIn[34], line 1\u001b[0m\n\u001b[0;32m----> 1\u001b[0m merged_data[\u001b[38;5;124m'\u001b[39m\u001b[38;5;124mday_night\u001b[39m\u001b[38;5;124m'\u001b[39m] \u001b[38;5;241m=\u001b[39m \u001b[43mmerged_data\u001b[49m\u001b[38;5;241;43m.\u001b[39;49m\u001b[43mapply\u001b[49m\u001b[43m(\u001b[49m\u001b[43mclassify_day_night\u001b[49m\u001b[43m,\u001b[49m\u001b[43m \u001b[49m\u001b[43maxis\u001b[49m\u001b[38;5;241;43m=\u001b[39;49m\u001b[38;5;241;43m1\u001b[39;49m\u001b[43m)\u001b[49m\n",
      "File \u001b[0;32m/Library/Frameworks/Python.framework/Versions/3.12/lib/python3.12/site-packages/pandas/core/frame.py:10374\u001b[0m, in \u001b[0;36mDataFrame.apply\u001b[0;34m(self, func, axis, raw, result_type, args, by_row, engine, engine_kwargs, **kwargs)\u001b[0m\n\u001b[1;32m  10360\u001b[0m \u001b[38;5;28;01mfrom\u001b[39;00m \u001b[38;5;21;01mpandas\u001b[39;00m\u001b[38;5;21;01m.\u001b[39;00m\u001b[38;5;21;01mcore\u001b[39;00m\u001b[38;5;21;01m.\u001b[39;00m\u001b[38;5;21;01mapply\u001b[39;00m \u001b[38;5;28;01mimport\u001b[39;00m frame_apply\n\u001b[1;32m  10362\u001b[0m op \u001b[38;5;241m=\u001b[39m frame_apply(\n\u001b[1;32m  10363\u001b[0m     \u001b[38;5;28mself\u001b[39m,\n\u001b[1;32m  10364\u001b[0m     func\u001b[38;5;241m=\u001b[39mfunc,\n\u001b[0;32m   (...)\u001b[0m\n\u001b[1;32m  10372\u001b[0m     kwargs\u001b[38;5;241m=\u001b[39mkwargs,\n\u001b[1;32m  10373\u001b[0m )\n\u001b[0;32m> 10374\u001b[0m \u001b[38;5;28;01mreturn\u001b[39;00m \u001b[43mop\u001b[49m\u001b[38;5;241;43m.\u001b[39;49m\u001b[43mapply\u001b[49m\u001b[43m(\u001b[49m\u001b[43m)\u001b[49m\u001b[38;5;241m.\u001b[39m__finalize__(\u001b[38;5;28mself\u001b[39m, method\u001b[38;5;241m=\u001b[39m\u001b[38;5;124m\"\u001b[39m\u001b[38;5;124mapply\u001b[39m\u001b[38;5;124m\"\u001b[39m)\n",
      "File \u001b[0;32m/Library/Frameworks/Python.framework/Versions/3.12/lib/python3.12/site-packages/pandas/core/apply.py:916\u001b[0m, in \u001b[0;36mFrameApply.apply\u001b[0;34m(self)\u001b[0m\n\u001b[1;32m    913\u001b[0m \u001b[38;5;28;01melif\u001b[39;00m \u001b[38;5;28mself\u001b[39m\u001b[38;5;241m.\u001b[39mraw:\n\u001b[1;32m    914\u001b[0m     \u001b[38;5;28;01mreturn\u001b[39;00m \u001b[38;5;28mself\u001b[39m\u001b[38;5;241m.\u001b[39mapply_raw(engine\u001b[38;5;241m=\u001b[39m\u001b[38;5;28mself\u001b[39m\u001b[38;5;241m.\u001b[39mengine, engine_kwargs\u001b[38;5;241m=\u001b[39m\u001b[38;5;28mself\u001b[39m\u001b[38;5;241m.\u001b[39mengine_kwargs)\n\u001b[0;32m--> 916\u001b[0m \u001b[38;5;28;01mreturn\u001b[39;00m \u001b[38;5;28;43mself\u001b[39;49m\u001b[38;5;241;43m.\u001b[39;49m\u001b[43mapply_standard\u001b[49m\u001b[43m(\u001b[49m\u001b[43m)\u001b[49m\n",
      "File \u001b[0;32m/Library/Frameworks/Python.framework/Versions/3.12/lib/python3.12/site-packages/pandas/core/apply.py:1063\u001b[0m, in \u001b[0;36mFrameApply.apply_standard\u001b[0;34m(self)\u001b[0m\n\u001b[1;32m   1061\u001b[0m \u001b[38;5;28;01mdef\u001b[39;00m \u001b[38;5;21mapply_standard\u001b[39m(\u001b[38;5;28mself\u001b[39m):\n\u001b[1;32m   1062\u001b[0m     \u001b[38;5;28;01mif\u001b[39;00m \u001b[38;5;28mself\u001b[39m\u001b[38;5;241m.\u001b[39mengine \u001b[38;5;241m==\u001b[39m \u001b[38;5;124m\"\u001b[39m\u001b[38;5;124mpython\u001b[39m\u001b[38;5;124m\"\u001b[39m:\n\u001b[0;32m-> 1063\u001b[0m         results, res_index \u001b[38;5;241m=\u001b[39m \u001b[38;5;28;43mself\u001b[39;49m\u001b[38;5;241;43m.\u001b[39;49m\u001b[43mapply_series_generator\u001b[49m\u001b[43m(\u001b[49m\u001b[43m)\u001b[49m\n\u001b[1;32m   1064\u001b[0m     \u001b[38;5;28;01melse\u001b[39;00m:\n\u001b[1;32m   1065\u001b[0m         results, res_index \u001b[38;5;241m=\u001b[39m \u001b[38;5;28mself\u001b[39m\u001b[38;5;241m.\u001b[39mapply_series_numba()\n",
      "File \u001b[0;32m/Library/Frameworks/Python.framework/Versions/3.12/lib/python3.12/site-packages/pandas/core/apply.py:1081\u001b[0m, in \u001b[0;36mFrameApply.apply_series_generator\u001b[0;34m(self)\u001b[0m\n\u001b[1;32m   1078\u001b[0m \u001b[38;5;28;01mwith\u001b[39;00m option_context(\u001b[38;5;124m\"\u001b[39m\u001b[38;5;124mmode.chained_assignment\u001b[39m\u001b[38;5;124m\"\u001b[39m, \u001b[38;5;28;01mNone\u001b[39;00m):\n\u001b[1;32m   1079\u001b[0m     \u001b[38;5;28;01mfor\u001b[39;00m i, v \u001b[38;5;129;01min\u001b[39;00m \u001b[38;5;28menumerate\u001b[39m(series_gen):\n\u001b[1;32m   1080\u001b[0m         \u001b[38;5;66;03m# ignore SettingWithCopy here in case the user mutates\u001b[39;00m\n\u001b[0;32m-> 1081\u001b[0m         results[i] \u001b[38;5;241m=\u001b[39m \u001b[38;5;28;43mself\u001b[39;49m\u001b[38;5;241;43m.\u001b[39;49m\u001b[43mfunc\u001b[49m\u001b[43m(\u001b[49m\u001b[43mv\u001b[49m\u001b[43m,\u001b[49m\u001b[43m \u001b[49m\u001b[38;5;241;43m*\u001b[39;49m\u001b[38;5;28;43mself\u001b[39;49m\u001b[38;5;241;43m.\u001b[39;49m\u001b[43margs\u001b[49m\u001b[43m,\u001b[49m\u001b[43m \u001b[49m\u001b[38;5;241;43m*\u001b[39;49m\u001b[38;5;241;43m*\u001b[39;49m\u001b[38;5;28;43mself\u001b[39;49m\u001b[38;5;241;43m.\u001b[39;49m\u001b[43mkwargs\u001b[49m\u001b[43m)\u001b[49m\n\u001b[1;32m   1082\u001b[0m         \u001b[38;5;28;01mif\u001b[39;00m \u001b[38;5;28misinstance\u001b[39m(results[i], ABCSeries):\n\u001b[1;32m   1083\u001b[0m             \u001b[38;5;66;03m# If we have a view on v, we need to make a copy because\u001b[39;00m\n\u001b[1;32m   1084\u001b[0m             \u001b[38;5;66;03m#  series_generator will swap out the underlying data\u001b[39;00m\n\u001b[1;32m   1085\u001b[0m             results[i] \u001b[38;5;241m=\u001b[39m results[i]\u001b[38;5;241m.\u001b[39mcopy(deep\u001b[38;5;241m=\u001b[39m\u001b[38;5;28;01mFalse\u001b[39;00m)\n",
      "Cell \u001b[0;32mIn[33], line 8\u001b[0m, in \u001b[0;36mclassify_day_night\u001b[0;34m(row)\u001b[0m\n\u001b[1;32m      5\u001b[0m timestamp \u001b[38;5;241m=\u001b[39m row[\u001b[38;5;124m'\u001b[39m\u001b[38;5;124mtimestamp\u001b[39m\u001b[38;5;124m'\u001b[39m]\n\u001b[1;32m      7\u001b[0m \u001b[38;5;66;03m# Classify as 'day' or 'night'\u001b[39;00m\n\u001b[0;32m----> 8\u001b[0m \u001b[38;5;28;01mif\u001b[39;00m \u001b[43msunrise\u001b[49m\u001b[43m \u001b[49m\u001b[38;5;241;43m<\u001b[39;49m\u001b[38;5;241;43m=\u001b[39;49m\u001b[43m \u001b[49m\u001b[43mtimestamp\u001b[49m\u001b[43m \u001b[49m\u001b[38;5;241;43m<\u001b[39;49m\u001b[43m \u001b[49m\u001b[43msunset\u001b[49m:\n\u001b[1;32m      9\u001b[0m     \u001b[38;5;28;01mreturn\u001b[39;00m \u001b[38;5;124m'\u001b[39m\u001b[38;5;124mday\u001b[39m\u001b[38;5;124m'\u001b[39m\n\u001b[1;32m     10\u001b[0m \u001b[38;5;28;01melse\u001b[39;00m:\n",
      "\u001b[0;31mTypeError\u001b[0m: '<=' not supported between instances of 'str' and 'Timestamp'"
     ]
    }
   ],
   "source": [
>>>>>>> origin/el_features
    "merged_data['day_night'] = merged_data.apply(classify_day_night, axis=1)"
   ]
  },
  {
   "cell_type": "code",
<<<<<<< HEAD
   "execution_count": 74,
   "id": "5bb7ab72-c02d-4210-a4ff-896d91ba3f3c",
   "metadata": {},
   "outputs": [],
   "source": [
    "# Get average day and night time temperatures\n",
    "average_temps_by_date = merged_data.groupby(['date', 'day_night'])['temperature_2m'].mean().unstack()"
   ]
  },
  {
   "cell_type": "code",
   "execution_count": 79,
   "id": "27ed2fb3-0e5d-4945-b876-3f5ef8a5ec91",
   "metadata": {},
   "outputs": [],
   "source": [
    "# Reset index\n",
    "average_temps_by_date = average_temps_by_date.reset_index()"
   ]
  },
  {
   "cell_type": "code",
   "execution_count": 81,
   "id": "5fdfb379-0a94-4d7c-82c9-a36e0043e385",
   "metadata": {},
   "outputs": [],
   "source": [
    "# Write output to data folder\n",
    "processed_data = config['top_level']+\"data/processed/average_temps_by_date.csv\"\n",
    "average_temps_by_date.to_csv(processed_data, index=True)"
   ]
=======
   "execution_count": null,
   "id": "4a82c393-fdf0-49ec-b6c1-330e36d9dbd5",
   "metadata": {},
   "outputs": [],
   "source": []
>>>>>>> origin/el_features
  }
 ],
 "metadata": {
  "kernelspec": {
   "display_name": "Python 3 (ipykernel)",
   "language": "python",
   "name": "python3"
  },
  "language_info": {
   "codemirror_mode": {
    "name": "ipython",
    "version": 3
   },
   "file_extension": ".py",
   "mimetype": "text/x-python",
   "name": "python",
   "nbconvert_exporter": "python",
   "pygments_lexer": "ipython3",
   "version": "3.12.6"
  }
 },
 "nbformat": 4,
 "nbformat_minor": 5
}
