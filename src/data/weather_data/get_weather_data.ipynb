{
 "cells": [
  {
   "cell_type": "code",
   "execution_count": 2,
   "id": "e34c1f4b-44af-465f-864d-6dad5ec32508",
   "metadata": {},
   "outputs": [],
   "source": [
    "import openmeteo_requests\n",
    "import requests_cache\n",
    "import pandas as pd\n",
    "from retry_requests import retry\n",
    "from datetime import datetime, timedelta, date\n",
    "import yaml\n",
    "import requests"
   ]
  },
  {
   "cell_type": "code",
   "execution_count": 3,
   "id": "61a28878-2a30-4888-8169-f9348350fad7",
   "metadata": {},
   "outputs": [],
   "source": [
    "# Setup the Open-Meteo API client with cache and retry on error\n",
    "cache_session = requests_cache.CachedSession('.cache', expire_after = 3600)\n",
    "retry_session = retry(cache_session, retries = 5, backoff_factor = 0.2)\n",
    "openmeteo = openmeteo_requests.Client(session = retry_session)"
   ]
  },
  {
   "cell_type": "code",
   "execution_count": 6,
   "id": "4ce9141a-b5c9-48f1-9229-a586ef5a7097",
   "metadata": {},
   "outputs": [],
   "source": [
    "# This will be user input?\n",
    "end_date = date.today()\n",
    "days = 5\n",
    "start_date = end_date - timedelta(days=days)"
   ]
  },
  {
   "cell_type": "code",
   "execution_count": 13,
   "id": "59fd05d0-8471-4eaa-8b0f-f859eeb6125b",
   "metadata": {},
   "outputs": [],
   "source": [
    "# Latitude and longitude\n",
    "lat = 39.3999\n",
    "long = -8.2245"
   ]
  },
  {
   "cell_type": "code",
   "execution_count": 14,
   "id": "29195dc6-68e2-4183-95d9-99210319465c",
   "metadata": {},
   "outputs": [],
   "source": [
    "# The order of variables in hourly or daily is important to assign them correctly below\n",
    "url = \"https://api.open-meteo.com/v1/forecast\"\n",
    "params = {\n",
    "\t\"latitude\": lat,\n",
    "\t\"longitude\": long,\n",
    "    \"start_date\": start_date,\n",
    "    \"end_date\": end_date,\n",
    "\t\"hourly\": [\"temperature_2m\", \"relative_humidity_2m\"]\n",
    "}\n",
    "responses = openmeteo.weather_api(url, params=params)\n",
    "\n",
    "# Process first location. Add a for-loop for multiple locations or weather models\n",
    "response = responses[0]"
   ]
  },
  {
   "cell_type": "code",
   "execution_count": 15,
   "id": "8f1124c5-3f3b-4363-9317-94e95656a9ff",
   "metadata": {},
   "outputs": [],
   "source": [
    "# Process hourly data. The order of variables needs to be the same as requested.\n",
    "hourly = response.Hourly()\n",
    "hourly_temperature_2m = hourly.Variables(0).ValuesAsNumpy()\n",
    "hourly_relative_humidity_2m = hourly.Variables(1).ValuesAsNumpy()"
   ]
  },
  {
   "cell_type": "code",
   "execution_count": 16,
   "id": "351e9bc1-b36f-4cb6-bb7a-988becfbe3ec",
   "metadata": {},
   "outputs": [],
   "source": [
    "hourly_data = {\"date\": pd.date_range(\n",
    "\tstart = pd.to_datetime(hourly.Time(), unit = \"s\", utc = True),\n",
    "\tend = pd.to_datetime(hourly.TimeEnd(), unit = \"s\", utc = True),\n",
    "\tfreq = pd.Timedelta(seconds = hourly.Interval()),\n",
    "\tinclusive = \"left\"\n",
    ")}"
   ]
  },
  {
   "cell_type": "code",
   "execution_count": 17,
   "id": "ad9c6c4e-dc9a-4114-8837-2461e23a02be",
   "metadata": {},
   "outputs": [],
   "source": [
    "hourly_data[\"temperature_2m\"] = hourly_temperature_2m\n",
    "hourly_data[\"relative_humidity_2m\"] = hourly_relative_humidity_2m"
   ]
  },
  {
   "cell_type": "code",
   "execution_count": 53,
   "id": "c4c8a6e1-0007-4d0d-8a97-1feb689836a7",
   "metadata": {},
   "outputs": [
    {
     "data": {
      "text/html": [
       "<div>\n",
       "<style scoped>\n",
       "    .dataframe tbody tr th:only-of-type {\n",
       "        vertical-align: middle;\n",
       "    }\n",
       "\n",
       "    .dataframe tbody tr th {\n",
       "        vertical-align: top;\n",
       "    }\n",
       "\n",
       "    .dataframe thead th {\n",
       "        text-align: right;\n",
       "    }\n",
       "</style>\n",
       "<table border=\"1\" class=\"dataframe\">\n",
       "  <thead>\n",
       "    <tr style=\"text-align: right;\">\n",
       "      <th></th>\n",
       "      <th>date</th>\n",
       "      <th>temperature_2m</th>\n",
       "      <th>relative_humidity_2m</th>\n",
       "    </tr>\n",
       "  </thead>\n",
       "  <tbody>\n",
       "    <tr>\n",
       "      <th>0</th>\n",
       "      <td>2024-12-12 00:00:00+00:00</td>\n",
       "      <td>5.472</td>\n",
       "      <td>79.0</td>\n",
       "    </tr>\n",
       "    <tr>\n",
       "      <th>1</th>\n",
       "      <td>2024-12-12 01:00:00+00:00</td>\n",
       "      <td>5.072</td>\n",
       "      <td>79.0</td>\n",
       "    </tr>\n",
       "    <tr>\n",
       "      <th>2</th>\n",
       "      <td>2024-12-12 02:00:00+00:00</td>\n",
       "      <td>4.722</td>\n",
       "      <td>80.0</td>\n",
       "    </tr>\n",
       "    <tr>\n",
       "      <th>3</th>\n",
       "      <td>2024-12-12 03:00:00+00:00</td>\n",
       "      <td>4.422</td>\n",
       "      <td>82.0</td>\n",
       "    </tr>\n",
       "    <tr>\n",
       "      <th>4</th>\n",
       "      <td>2024-12-12 04:00:00+00:00</td>\n",
       "      <td>4.122</td>\n",
       "      <td>82.0</td>\n",
       "    </tr>\n",
       "  </tbody>\n",
       "</table>\n",
       "</div>"
      ],
      "text/plain": [
       "                       date  temperature_2m  relative_humidity_2m\n",
       "0 2024-12-12 00:00:00+00:00           5.472                  79.0\n",
       "1 2024-12-12 01:00:00+00:00           5.072                  79.0\n",
       "2 2024-12-12 02:00:00+00:00           4.722                  80.0\n",
       "3 2024-12-12 03:00:00+00:00           4.422                  82.0\n",
       "4 2024-12-12 04:00:00+00:00           4.122                  82.0"
      ]
     },
     "execution_count": 53,
     "metadata": {},
     "output_type": "execute_result"
    }
   ],
   "source": [
    "hourly_dataframe = pd.DataFrame(data = hourly_data)\n",
    "hourly_dataframe.head()"
   ]
  },
  {
   "cell_type": "code",
   "execution_count": 19,
   "id": "8a7f637c-7986-4f0b-b2de-4470bdbbea45",
   "metadata": {},
   "outputs": [],
   "source": [
    "# # Load the YAML file\n",
    "# with open(\"config.yml\", \"r\") as file:\n",
    "#     config = yaml.safe_load(file)\n",
    "\n",
    "# # Access config data\n",
    "# data_path = config['raw_data']\n",
    "\n",
    "# hourly_dataframe.to_csv(data_path+'raw_weather_data.csv', index=False) "
   ]
  },
  {
   "cell_type": "code",
   "execution_count": 20,
   "id": "db717260-c507-4e01-9a8d-bea556e9947a",
   "metadata": {},
   "outputs": [],
   "source": [
    "def fetch_sunrise_sunset(lat, lon, date):\n",
    "    \"\"\"\n",
    "    Fetch sunrise and sunset times for a given latitude, longitude, and date using Sunrise-Sunset API.\n",
    "    \"\"\"\n",
    "    \n",
    "    url = \"https://api.sunrise-sunset.org/json\"\n",
    "    params = {\n",
    "        'lat': lat,\n",
    "        'lng': lon,\n",
    "        'date': date,\n",
    "        'formatted': 0  # Return times in ISO 8601 format (UTC)\n",
    "    }\n",
    "    response = requests.get(url, params=params)\n",
    "    \n",
    "    if response.status_code == 200:\n",
    "        data = response.json()\n",
    "        if data['status'] == 'OK':\n",
    "            return {\n",
    "                'date': date,\n",
    "                'sunrise': data['results']['sunrise'],\n",
    "                'sunset': data['results']['sunset']\n",
    "            }\n",
    "        else:\n",
    "            print(f\"Error: {data['status']}\")\n",
    "            return None\n",
    "    else:\n",
    "        print(f\"HTTP Error: {response.status_code}\")\n",
    "        return None"
   ]
  },
  {
   "cell_type": "code",
   "execution_count": 41,
   "id": "34391727-ec81-4280-95c8-7ef30a9f5c5b",
   "metadata": {},
   "outputs": [],
   "source": [
    "def fetch_sunrise_sunset_range(lat, lon, start_date, end_date):\n",
    "    \"\"\"\n",
    "    Fetch sunrise and sunset times for a range of dates.\n",
    "    \"\"\"\n",
    "    # Convert start_date and end_date to datetime.date objects if they are strings\n",
    "    if isinstance(start_date, str):\n",
    "        start_date = datetime.strptime(start_date, \"%Y-%m-%d\").date()\n",
    "    if isinstance(end_date, str):\n",
    "        end_date = datetime.strptime(end_date, \"%Y-%m-%d\").date()\n",
    "\n",
    "    # Ensure current_date starts as a datetime.date object\n",
    "    current_date = start_date\n",
    "    results = []\n",
    "\n",
    "    while current_date <= end_date:\n",
    "        print(f\"Fetching data for {current_date}...\")\n",
    "        # Pass the date as a string in 'YYYY-MM-DD' format to the fetch function\n",
    "        date_str = current_date.strftime(\"%Y-%m-%d\")\n",
    "        data = fetch_sunrise_sunset(lat, lon, date_str)\n",
    "        if data:\n",
    "            results.append(data)\n",
    "        # Increment current_date by one day\n",
    "        current_date += timedelta(days=1)\n",
    "\n",
    "    return results"
   ]
  }
 ],
 "metadata": {
  "kernelspec": {
   "display_name": "Python 3 (ipykernel)",
   "language": "python",
   "name": "python3"
  },
  "language_info": {
   "codemirror_mode": {
    "name": "ipython",
    "version": 3
   },
   "file_extension": ".py",
   "mimetype": "text/x-python",
   "name": "python",
   "nbconvert_exporter": "python",
   "pygments_lexer": "ipython3",
   "version": "3.12.6"
  }
 },
 "nbformat": 4,
 "nbformat_minor": 5
}
