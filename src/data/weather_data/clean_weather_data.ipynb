{
 "cells": [
  {
   "cell_type": "code",
   "execution_count": 28,
   "id": "e10fd2e9-6ece-490d-9467-4fa18b9bf7ff",
   "metadata": {},
   "outputs": [],
   "source": [
    "# !pip install pyyaml"
   ]
  },
  {
   "cell_type": "code",
   "execution_count": 46,
   "id": "c3d494e8-f637-406a-a0f3-1a936e5bf177",
   "metadata": {},
   "outputs": [],
   "source": [
    "import pandas as pd\n",
    "from datetime import datetime\n",
    "import yaml\n",
    "import os"
   ]
  },
  {
   "cell_type": "code",
   "execution_count": 63,
   "id": "c7100732-a656-4556-940f-1d73adfae9f4",
   "metadata": {},
   "outputs": [],
   "source": [
    "# Relative path to the root-level file\n",
    "config_path = os.path.join(\"..\", \"..\", \"..\", \"config.yml\")\n",
    "with open(config_path, \"r\") as file:\n",
    "    config = yaml.safe_load(file)"
   ]
  },
  {
   "cell_type": "code",
   "execution_count": 48,
   "id": "03fd7eb3-16f5-4b3c-b771-673661faec89",
   "metadata": {},
   "outputs": [],
   "source": [
    "raw_data_filepath = config['raw_data']\n",
    "sunset_sunrise_filepath = raw_data_filepath+\"sunset_sunrise.csv\"\n",
    "weather_filepath = raw_data_filepath+\"raw_historical_weather_data.csv\""
   ]
  },
  {
   "cell_type": "code",
   "execution_count": 49,
   "id": "c1713887-e9f1-4973-aeca-9a0c269f6ddc",
   "metadata": {},
   "outputs": [],
   "source": [
    "# Combine day/night data with temperature data\n",
    "# Read in both dfs\n",
    "sunset_sunrise = pd.read_csv(sunset_sunrise_filepath, index_col=None)\n",
    "weather_data = pd.read_csv(weather_filepath)"
   ]
  },
  {
   "cell_type": "code",
   "execution_count": 50,
   "id": "222204fb-a230-4e09-bdc6-342f5c6667bf",
   "metadata": {},
   "outputs": [],
   "source": [
    "sunset_sunrise = sunset_sunrise.drop(columns=[\"Unnamed: 0\"])"
   ]
  },
  {
   "cell_type": "code",
   "execution_count": 51,
   "id": "eea29ac6-13b8-4373-8740-adbd69c89b43",
   "metadata": {},
   "outputs": [],
   "source": [
    "clean_weather = weather_data.dropna()"
   ]
  },
  {
   "cell_type": "code",
   "execution_count": 52,
   "id": "5bbed177-4c84-4f44-8d0a-bbf8a718546f",
   "metadata": {},
   "outputs": [],
   "source": [
    "# Convert 'sunrise' and 'sunset' to datetime with timezone-awareness (e.g., UTC)\n",
    "sunset_sunrise['sunrise'] = pd.to_datetime(sunset_sunrise['sunrise'], utc=True)\n",
    "sunset_sunrise['sunset'] = pd.to_datetime(sunset_sunrise['sunset'], utc=True)\n",
    "sunset_sunrise['date'] = pd.to_datetime(sunset_sunrise['date']).dt.date"
   ]
  },
  {
   "cell_type": "code",
   "execution_count": 53,
   "id": "cadee247-3485-4ce2-9861-adf1b2e17ddd",
   "metadata": {},
   "outputs": [],
   "source": [
    "# Create column \"timestamp\"\n",
    "clean_weather = clean_weather.copy()\n",
    "clean_weather.loc[:, 'timestamp'] = pd.to_datetime(clean_weather['date'])"
   ]
  },
  {
   "cell_type": "code",
   "execution_count": 54,
   "id": "015f13c4-b764-4d33-845e-cde151f99167",
   "metadata": {},
   "outputs": [],
   "source": [
    "# Convert date column to match sunrise data\n",
    "clean_weather.loc[:, 'date'] = pd.to_datetime(clean_weather['date']).dt.strftime('%Y-%m-%d')\n",
    "# clean_weather['date'] = pd.to_datetime(clean_weather['date'])"
   ]
  },
  {
   "cell_type": "code",
   "execution_count": 55,
   "id": "741d7285-f78c-4577-9eef-a85fd7e97661",
   "metadata": {},
   "outputs": [],
   "source": [
    "clean_weather['date'] = pd.to_datetime(clean_weather['date'])\n",
    "sunset_sunrise['date'] = pd.to_datetime(sunset_sunrise['date'])"
   ]
  },
  {
   "cell_type": "code",
   "execution_count": 56,
   "id": "e360dd42-14a0-4386-bbef-94c9a2a86ca9",
   "metadata": {},
   "outputs": [],
   "source": [
    "# sunset_sunrise['date'] = pd.to_datetime(sunset_sunrise['date'])"
   ]
  },
  {
   "cell_type": "code",
   "execution_count": 57,
   "id": "dcac38a2-067d-4871-9aeb-233a6b83f873",
   "metadata": {},
   "outputs": [
    {
     "data": {
      "text/html": [
       "<div>\n",
       "<style scoped>\n",
       "    .dataframe tbody tr th:only-of-type {\n",
       "        vertical-align: middle;\n",
       "    }\n",
       "\n",
       "    .dataframe tbody tr th {\n",
       "        vertical-align: top;\n",
       "    }\n",
       "\n",
       "    .dataframe thead th {\n",
       "        text-align: right;\n",
       "    }\n",
       "</style>\n",
       "<table border=\"1\" class=\"dataframe\">\n",
       "  <thead>\n",
       "    <tr style=\"text-align: right;\">\n",
       "      <th></th>\n",
       "      <th>date</th>\n",
       "      <th>temperature_2m</th>\n",
       "      <th>relative_humidity_2m</th>\n",
       "      <th>timestamp</th>\n",
       "      <th>sunrise</th>\n",
       "      <th>sunset</th>\n",
       "    </tr>\n",
       "  </thead>\n",
       "  <tbody>\n",
       "    <tr>\n",
       "      <th>0</th>\n",
       "      <td>1990-01-01</td>\n",
       "      <td>9.4725</td>\n",
       "      <td>98.002426</td>\n",
       "      <td>1990-01-01 00:00:00+00:00</td>\n",
       "      <td>1990-01-01 07:51:27+00:00</td>\n",
       "      <td>1990-01-01 17:21:24+00:00</td>\n",
       "    </tr>\n",
       "    <tr>\n",
       "      <th>1</th>\n",
       "      <td>1990-01-01</td>\n",
       "      <td>9.4725</td>\n",
       "      <td>98.332886</td>\n",
       "      <td>1990-01-01 01:00:00+00:00</td>\n",
       "      <td>1990-01-01 07:51:27+00:00</td>\n",
       "      <td>1990-01-01 17:21:24+00:00</td>\n",
       "    </tr>\n",
       "    <tr>\n",
       "      <th>2</th>\n",
       "      <td>1990-01-01</td>\n",
       "      <td>9.5725</td>\n",
       "      <td>98.665380</td>\n",
       "      <td>1990-01-01 02:00:00+00:00</td>\n",
       "      <td>1990-01-01 07:51:27+00:00</td>\n",
       "      <td>1990-01-01 17:21:24+00:00</td>\n",
       "    </tr>\n",
       "    <tr>\n",
       "      <th>3</th>\n",
       "      <td>1990-01-01</td>\n",
       "      <td>9.8225</td>\n",
       "      <td>98.668015</td>\n",
       "      <td>1990-01-01 03:00:00+00:00</td>\n",
       "      <td>1990-01-01 07:51:27+00:00</td>\n",
       "      <td>1990-01-01 17:21:24+00:00</td>\n",
       "    </tr>\n",
       "    <tr>\n",
       "      <th>4</th>\n",
       "      <td>1990-01-01</td>\n",
       "      <td>10.0225</td>\n",
       "      <td>98.670100</td>\n",
       "      <td>1990-01-01 04:00:00+00:00</td>\n",
       "      <td>1990-01-01 07:51:27+00:00</td>\n",
       "      <td>1990-01-01 17:21:24+00:00</td>\n",
       "    </tr>\n",
       "    <tr>\n",
       "      <th>...</th>\n",
       "      <td>...</td>\n",
       "      <td>...</td>\n",
       "      <td>...</td>\n",
       "      <td>...</td>\n",
       "      <td>...</td>\n",
       "      <td>...</td>\n",
       "    </tr>\n",
       "    <tr>\n",
       "      <th>306332</th>\n",
       "      <td>2024-12-12</td>\n",
       "      <td>6.4660</td>\n",
       "      <td>87.046310</td>\n",
       "      <td>2024-12-12 20:00:00+00:00</td>\n",
       "      <td>2024-12-12 07:42:23+00:00</td>\n",
       "      <td>2024-12-12 17:11:16+00:00</td>\n",
       "    </tr>\n",
       "    <tr>\n",
       "      <th>306333</th>\n",
       "      <td>2024-12-12</td>\n",
       "      <td>5.7160</td>\n",
       "      <td>89.451280</td>\n",
       "      <td>2024-12-12 21:00:00+00:00</td>\n",
       "      <td>2024-12-12 07:42:23+00:00</td>\n",
       "      <td>2024-12-12 17:11:16+00:00</td>\n",
       "    </tr>\n",
       "    <tr>\n",
       "      <th>306334</th>\n",
       "      <td>2024-12-12</td>\n",
       "      <td>5.5160</td>\n",
       "      <td>89.749730</td>\n",
       "      <td>2024-12-12 22:00:00+00:00</td>\n",
       "      <td>2024-12-12 07:42:23+00:00</td>\n",
       "      <td>2024-12-12 17:11:16+00:00</td>\n",
       "    </tr>\n",
       "    <tr>\n",
       "      <th>306335</th>\n",
       "      <td>2024-12-12</td>\n",
       "      <td>5.2160</td>\n",
       "      <td>90.359660</td>\n",
       "      <td>2024-12-12 23:00:00+00:00</td>\n",
       "      <td>2024-12-12 07:42:23+00:00</td>\n",
       "      <td>2024-12-12 17:11:16+00:00</td>\n",
       "    </tr>\n",
       "    <tr>\n",
       "      <th>306336</th>\n",
       "      <td>2024-12-13</td>\n",
       "      <td>4.1660</td>\n",
       "      <td>92.547386</td>\n",
       "      <td>2024-12-13 00:00:00+00:00</td>\n",
       "      <td>2024-12-13 07:43:07+00:00</td>\n",
       "      <td>2024-12-13 17:11:29+00:00</td>\n",
       "    </tr>\n",
       "  </tbody>\n",
       "</table>\n",
       "<p>306337 rows × 6 columns</p>\n",
       "</div>"
      ],
      "text/plain": [
       "             date  temperature_2m  relative_humidity_2m  \\\n",
       "0      1990-01-01          9.4725             98.002426   \n",
       "1      1990-01-01          9.4725             98.332886   \n",
       "2      1990-01-01          9.5725             98.665380   \n",
       "3      1990-01-01          9.8225             98.668015   \n",
       "4      1990-01-01         10.0225             98.670100   \n",
       "...           ...             ...                   ...   \n",
       "306332 2024-12-12          6.4660             87.046310   \n",
       "306333 2024-12-12          5.7160             89.451280   \n",
       "306334 2024-12-12          5.5160             89.749730   \n",
       "306335 2024-12-12          5.2160             90.359660   \n",
       "306336 2024-12-13          4.1660             92.547386   \n",
       "\n",
       "                       timestamp                   sunrise  \\\n",
       "0      1990-01-01 00:00:00+00:00 1990-01-01 07:51:27+00:00   \n",
       "1      1990-01-01 01:00:00+00:00 1990-01-01 07:51:27+00:00   \n",
       "2      1990-01-01 02:00:00+00:00 1990-01-01 07:51:27+00:00   \n",
       "3      1990-01-01 03:00:00+00:00 1990-01-01 07:51:27+00:00   \n",
       "4      1990-01-01 04:00:00+00:00 1990-01-01 07:51:27+00:00   \n",
       "...                          ...                       ...   \n",
       "306332 2024-12-12 20:00:00+00:00 2024-12-12 07:42:23+00:00   \n",
       "306333 2024-12-12 21:00:00+00:00 2024-12-12 07:42:23+00:00   \n",
       "306334 2024-12-12 22:00:00+00:00 2024-12-12 07:42:23+00:00   \n",
       "306335 2024-12-12 23:00:00+00:00 2024-12-12 07:42:23+00:00   \n",
       "306336 2024-12-13 00:00:00+00:00 2024-12-13 07:43:07+00:00   \n",
       "\n",
       "                          sunset  \n",
       "0      1990-01-01 17:21:24+00:00  \n",
       "1      1990-01-01 17:21:24+00:00  \n",
       "2      1990-01-01 17:21:24+00:00  \n",
       "3      1990-01-01 17:21:24+00:00  \n",
       "4      1990-01-01 17:21:24+00:00  \n",
       "...                          ...  \n",
       "306332 2024-12-12 17:11:16+00:00  \n",
       "306333 2024-12-12 17:11:16+00:00  \n",
       "306334 2024-12-12 17:11:16+00:00  \n",
       "306335 2024-12-12 17:11:16+00:00  \n",
       "306336 2024-12-13 17:11:29+00:00  \n",
       "\n",
       "[306337 rows x 6 columns]"
      ]
     },
     "execution_count": 57,
     "metadata": {},
     "output_type": "execute_result"
    }
   ],
   "source": [
    "# Merge data\n",
    "merged_data = pd.merge(clean_weather, sunset_sunrise, on='date', how='inner')\n",
<<<<<<< HEAD
    "# merged_data"
=======
    "merged_data"
>>>>>>> origin/el_features
   ]
  },
  {
   "cell_type": "code",
   "execution_count": 58,
   "id": "60e125e8-f1fb-4651-815c-ff31a5d88898",
   "metadata": {},
   "outputs": [],
   "source": [
    "def classify_day_night(row):\n",
    "    # Ensure sunrise, sunset, and timestamp are tz-aware (they should already be if you followed the above steps)\n",
    "    sunrise = row['sunrise']\n",
    "    sunset = row['sunset']\n",
    "    timestamp = row['timestamp']\n",
    "    \n",
    "    # Classify as 'day' or 'night'\n",
    "    if sunrise <= timestamp < sunset:\n",
    "        return 'day'\n",
    "    else:\n",
    "        return 'night'"
   ]
  },
  {
   "cell_type": "code",
   "execution_count": 59,
   "id": "e46a39b5-c19a-43e6-929e-43440055d38c",
   "metadata": {},
   "outputs": [],
   "source": [
    "# Add column that sets day or night value based on sunset on that day\n",
    "merged_data['day_night'] = merged_data.apply(classify_day_night, axis=1)"
   ]
  },
  {
   "cell_type": "code",
   "execution_count": 74,
   "id": "5bb7ab72-c02d-4210-a4ff-896d91ba3f3c",
   "metadata": {},
   "outputs": [],
   "source": [
    "# Get average day and night time temperatures\n",
    "average_temps_by_date = merged_data.groupby(['date', 'day_night'])['temperature_2m'].mean().unstack()"
   ]
  },
  {
   "cell_type": "code",
   "execution_count": 79,
   "id": "27ed2fb3-0e5d-4945-b876-3f5ef8a5ec91",
   "metadata": {},
   "outputs": [],
   "source": [
    "# Reset index\n",
    "average_temps_by_date = average_temps_by_date.reset_index()"
   ]
  },
  {
   "cell_type": "code",
   "execution_count": 81,
   "id": "5fdfb379-0a94-4d7c-82c9-a36e0043e385",
   "metadata": {},
   "outputs": [],
   "source": [
    "# Write output to data folder\n",
    "processed_data = config['top_level']+\"data/processed/average_temps_by_date.csv\"\n",
    "average_temps_by_date.to_csv(processed_data, index=True)"
   ]
  }
 ],
 "metadata": {
  "kernelspec": {
   "display_name": "Python 3 (ipykernel)",
   "language": "python",
   "name": "python3"
  },
  "language_info": {
   "codemirror_mode": {
    "name": "ipython",
    "version": 3
   },
   "file_extension": ".py",
   "mimetype": "text/x-python",
   "name": "python",
   "nbconvert_exporter": "python",
   "pygments_lexer": "ipython3",
   "version": "3.12.6"
  }
 },
 "nbformat": 4,
 "nbformat_minor": 5
}
