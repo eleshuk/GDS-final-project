{
 "cells": [
  {
   "cell_type": "code",
   "execution_count": 52,
   "id": "63302dd0-612b-44cd-a35f-c06133dc4674",
   "metadata": {},
   "outputs": [],
   "source": [
    "import openmeteo_requests\n",
    "import requests_cache\n",
    "import pandas as pd\n",
    "from retry_requests import retry\n",
    "from datetime import datetime, timedelta, date\n",
    "import yaml\n",
    "import requests"
   ]
  },
  {
   "cell_type": "code",
   "execution_count": 53,
   "id": "1d6beaf9-c559-446b-8b75-0fd79e47908f",
   "metadata": {},
   "outputs": [],
   "source": [
    "# Latitude and longitude\n",
    "lat = 39.3999\n",
    "long = -8.2245"
   ]
  },
  {
   "cell_type": "code",
   "execution_count": 54,
   "id": "24fddd62-0d0f-4372-a98d-83516103e4b1",
   "metadata": {},
   "outputs": [],
   "source": [
    "# Start and end date\n",
    "start_date = \"1990-01-01\"\n",
    "end_date = \"2024-12-14\""
   ]
  },
  {
   "cell_type": "code",
   "execution_count": 55,
   "id": "ed2f0087-393a-4a29-94f5-e802917b8a7c",
   "metadata": {},
   "outputs": [],
   "source": [
    "# Setup the Open-Meteo API client with cache and retry on error\n",
    "cache_session = requests_cache.CachedSession('.cache', expire_after = -1)\n",
    "retry_session = retry(cache_session, retries = 5, backoff_factor = 0.2)\n",
    "openmeteo = openmeteo_requests.Client(session = retry_session)"
   ]
  },
  {
   "cell_type": "code",
   "execution_count": 56,
   "id": "c2c22d52-bbea-4187-993e-64a321973929",
   "metadata": {},
   "outputs": [],
   "source": [
    "# Make sure all required weather variables are listed here\n",
    "# The order of variables in hourly or daily is important to assign them correctly below\n",
    "url = \"https://archive-api.open-meteo.com/v1/archive\"\n",
    "params = {\n",
    "\t\"latitude\": lat,\n",
    "\t\"longitude\": long,\n",
    "\t\"start_date\": start_date,\n",
    "\t\"end_date\": end_date,\n",
    "    \"daily\": \"precipitation_sum\",\n",
    "\t\"hourly\": [\"temperature_2m\", \"relative_humidity_2m\"]\n",
    "}\n",
    "responses = openmeteo.weather_api(url, params=params)"
   ]
  },
  {
   "cell_type": "code",
   "execution_count": 57,
   "id": "88278db0-7642-44c8-bbf8-563767da1525",
   "metadata": {},
   "outputs": [
    {
     "name": "stdout",
     "output_type": "stream",
     "text": [
      "Coordinates 39.40245819091797°N -8.204437255859375°E\n",
      "Elevation 170.0 m asl\n",
      "Timezone None None\n",
      "Timezone difference to GMT+0 0 s\n"
     ]
    }
   ],
   "source": [
    "# Process first location. Add a for-loop for multiple locations or weather models\n",
    "response = responses[0]\n",
    "print(f\"Coordinates {response.Latitude()}°N {response.Longitude()}°E\")\n",
    "print(f\"Elevation {response.Elevation()} m asl\")\n",
    "print(f\"Timezone {response.Timezone()} {response.TimezoneAbbreviation()}\")\n",
    "print(f\"Timezone difference to GMT+0 {response.UtcOffsetSeconds()} s\")\n"
   ]
  },
  {
   "cell_type": "code",
   "execution_count": 58,
   "id": "9d1bac08-0093-4414-a4a2-1497c2d2031a",
   "metadata": {},
   "outputs": [],
   "source": [
    "# Process hourly data. The order of variables needs to be the same as requested.\n",
    "hourly = response.Hourly()\n",
    "hourly_temperature_2m = hourly.Variables(0).ValuesAsNumpy()\n",
    "hourly_relative_humidity_2m = hourly.Variables(1).ValuesAsNumpy()"
   ]
  },
  {
   "cell_type": "code",
   "execution_count": 59,
   "id": "4c8f3130-9c83-4c16-a6ed-b84030e9dc87",
   "metadata": {},
   "outputs": [],
   "source": [
    "hourly_data = {\"date\": pd.date_range(\n",
    "\tstart = pd.to_datetime(hourly.Time(), unit = \"s\", utc = True),\n",
    "\tend = pd.to_datetime(hourly.TimeEnd(), unit = \"s\", utc = True),\n",
    "\tfreq = pd.Timedelta(seconds = hourly.Interval()),\n",
    "\tinclusive = \"left\"\n",
    ")}"
   ]
  },
  {
   "cell_type": "code",
   "execution_count": 60,
   "id": "c3cd2bb9-e820-4ecf-8f68-423eb9ec7a41",
   "metadata": {},
   "outputs": [],
   "source": [
    "hourly_data[\"temperature_2m\"] = hourly_temperature_2m\n",
    "hourly_data[\"relative_humidity_2m\"] = hourly_relative_humidity_2m"
   ]
  },
  {
   "cell_type": "code",
   "execution_count": 62,
   "id": "ada2e062-6a56-4115-8716-61a00eb69f8a",
   "metadata": {},
   "outputs": [
    {
     "name": "stdout",
     "output_type": "stream",
     "text": [
      "                            date  temperature_2m  relative_humidity_2m\n",
      "0      1990-01-01 00:00:00+00:00          9.4725             98.002426\n",
      "1      1990-01-01 01:00:00+00:00          9.4725             98.332886\n",
      "2      1990-01-01 02:00:00+00:00          9.5725             98.665382\n",
      "3      1990-01-01 03:00:00+00:00          9.8225             98.668015\n",
      "4      1990-01-01 04:00:00+00:00         10.0225             98.670097\n",
      "...                          ...             ...                   ...\n",
      "306403 2024-12-14 19:00:00+00:00             NaN                   NaN\n",
      "306404 2024-12-14 20:00:00+00:00             NaN                   NaN\n",
      "306405 2024-12-14 21:00:00+00:00             NaN                   NaN\n",
      "306406 2024-12-14 22:00:00+00:00             NaN                   NaN\n",
      "306407 2024-12-14 23:00:00+00:00             NaN                   NaN\n",
      "\n",
      "[306408 rows x 3 columns]\n"
     ]
    }
   ],
   "source": [
    "hourly_dataframe = pd.DataFrame(data = hourly_data)\n",
    "print(hourly_dataframe)"
   ]
  },
  {
   "cell_type": "code",
   "execution_count": 48,
   "id": "907cc755-284e-4bec-9d51-4f4d8f68f628",
   "metadata": {},
   "outputs": [],
   "source": [
    "def fetch_sunrise_sunset(lat, lon, date):\n",
    "    \"\"\"\n",
    "    Fetch sunrise and sunset times for a given latitude, longitude, and date using Sunrise-Sunset API.\n",
    "    \"\"\"\n",
    "    \n",
    "    url = \"https://api.sunrise-sunset.org/json\"\n",
    "    params = {\n",
    "        'lat': lat,\n",
    "        'lng': lon,\n",
    "        'date': date,\n",
    "        'formatted': 0  # Return times in ISO 8601 format (UTC)\n",
    "    }\n",
    "    response = requests.get(url, params=params)\n",
    "    \n",
    "    if response.status_code == 200:\n",
    "        data = response.json()\n",
    "        if data['status'] == 'OK':\n",
    "            return {\n",
    "                'date': date,\n",
    "                'sunrise': data['results']['sunrise'],\n",
    "                'sunset': data['results']['sunset']\n",
    "            }\n",
    "        else:\n",
    "            print(f\"Error: {data['status']}\")\n",
    "            return None\n",
    "    else:\n",
    "        print(f\"HTTP Error: {response.status_code}\")\n",
    "        return None"
   ]
  },
  {
   "cell_type": "code",
   "execution_count": 49,
   "id": "62271ada-541a-4e41-b87c-f98aa260a3ad",
   "metadata": {},
   "outputs": [],
   "source": [
    "def fetch_sunrise_sunset_range(lat, lon, start_date, end_date):\n",
    "    \"\"\"\n",
    "    Fetch sunrise and sunset times for a range of dates.\n",
    "    \"\"\"\n",
    "    # Convert start_date and end_date to datetime.date objects if they are strings\n",
    "    if isinstance(start_date, str):\n",
    "        start_date = datetime.strptime(start_date, \"%Y-%m-%d\").date()\n",
    "    if isinstance(end_date, str):\n",
    "        end_date = datetime.strptime(end_date, \"%Y-%m-%d\").date()\n",
    "\n",
    "    # Ensure current_date starts as a datetime.date object\n",
    "    current_date = start_date\n",
    "    results = []\n",
    "\n",
    "    while current_date <= end_date:\n",
    "        print(f\"Fetching data for {current_date}...\")\n",
    "        # Pass the date as a string in 'YYYY-MM-DD' format to the fetch function\n",
    "        date_str = current_date.strftime(\"%Y-%m-%d\")\n",
    "        data = fetch_sunrise_sunset(lat, lon, date_str)\n",
    "        if data:\n",
    "            results.append(data)\n",
    "        # Increment current_date by one day\n",
    "        current_date += timedelta(days=1)\n",
    "\n",
    "    return results"
   ]
  },
  {
   "cell_type": "code",
   "execution_count": 50,
   "id": "97ce6265-0024-4f16-93e3-f8f4c89476ed",
   "metadata": {},
   "outputs": [],
   "source": [
    "# Test\n",
    "# get_sunset = fetch_sunrise_sunset(lat, long, \"2024-12-10\")"
   ]
  },
  {
   "cell_type": "code",
   "execution_count": 51,
   "id": "8f5365d4-1f37-4e96-9878-d9805953d1bd",
   "metadata": {},
   "outputs": [
    {
     "data": {
      "text/plain": [
       "{'date': '2024-12-10',\n",
       " 'sunrise': '2024-12-10T07:40:50+00:00',\n",
       " 'sunset': '2024-12-10T17:10:58+00:00'}"
      ]
     },
     "execution_count": 51,
     "metadata": {},
     "output_type": "execute_result"
    }
   ],
   "source": [
    "# Load all historical sunrise/sunset data\n",
    "historical_sunset_data = fetch_sunrise_sunset_range(lat, long, start_date, end_date)"
   ]
  },
  {
   "cell_type": "code",
   "execution_count": null,
   "id": "78908fb9-7b0a-4070-8612-e33dae2619f6",
   "metadata": {},
   "outputs": [],
   "source": [
    "# Convert to table\n"
   ]
  },
  {
   "cell_type": "code",
   "execution_count": null,
   "id": "65d8994b-106f-4bf8-ac14-08a26f3f4bd4",
   "metadata": {},
   "outputs": [],
   "source": [
    "# Write to .csv"
   ]
  }
 ],
 "metadata": {
  "kernelspec": {
   "display_name": "Python 3 (ipykernel)",
   "language": "python",
   "name": "python3"
  },
  "language_info": {
   "codemirror_mode": {
    "name": "ipython",
    "version": 3
   },
   "file_extension": ".py",
   "mimetype": "text/x-python",
   "name": "python",
   "nbconvert_exporter": "python",
   "pygments_lexer": "ipython3",
   "version": "3.12.6"
  }
 },
 "nbformat": 4,
 "nbformat_minor": 5
}
