{
 "cells": [
  {
   "cell_type": "code",
   "execution_count": 10,
   "id": "e34c1f4b-44af-465f-864d-6dad5ec32508",
   "metadata": {},
   "outputs": [],
   "source": [
    "import openmeteo_requests\n",
    "import requests_cache\n",
    "import pandas as pd\n",
    "from retry_requests import retry\n",
    "from datetime import datetime, timedelta, date\n",
    "import yaml\n",
    "import requests"
   ]
  },
  {
   "cell_type": "code",
   "execution_count": 11,
   "id": "61a28878-2a30-4888-8169-f9348350fad7",
   "metadata": {},
   "outputs": [],
   "source": [
    "# Setup the Open-Meteo API client with cache and retry on error\n",
    "cache_session = requests_cache.CachedSession('.cache', expire_after = 3600)\n",
    "retry_session = retry(cache_session, retries = 5, backoff_factor = 0.2)\n",
    "openmeteo = openmeteo_requests.Client(session = retry_session)"
   ]
  },
  {
   "cell_type": "code",
   "execution_count": 12,
   "id": "4ce9141a-b5c9-48f1-9229-a586ef5a7097",
   "metadata": {},
   "outputs": [],
   "source": [
    "# This will be user input?\n",
    "end_date = date.today()\n",
    "start_date = end_date - timedelta(days=5)"
   ]
  },
  {
   "cell_type": "code",
   "execution_count": 13,
   "id": "59fd05d0-8471-4eaa-8b0f-f859eeb6125b",
   "metadata": {},
   "outputs": [],
   "source": [
    "# Latitude and longitude\n",
    "lat = 39.3999\n",
    "long = -8.2245"
   ]
  },
  {
   "cell_type": "code",
   "execution_count": 14,
   "id": "29195dc6-68e2-4183-95d9-99210319465c",
   "metadata": {},
   "outputs": [],
   "source": [
    "# The order of variables in hourly or daily is important to assign them correctly below\n",
    "url = \"https://api.open-meteo.com/v1/forecast\"\n",
    "params = {\n",
    "\t\"latitude\": 39.3999,\n",
    "\t\"longitude\": -8.2245,\n",
    "    \"start_date\": start_date,\n",
    "    \"end_date\": end_date,\n",
    "\t\"hourly\": [\"temperature_2m\", \"relative_humidity_2m\"]\n",
    "}\n",
    "responses = openmeteo.weather_api(url, params=params)\n",
    "\n",
    "# Process first location. Add a for-loop for multiple locations or weather models\n",
    "response = responses[0]"
   ]
  },
  {
   "cell_type": "code",
   "execution_count": 15,
   "id": "8f1124c5-3f3b-4363-9317-94e95656a9ff",
   "metadata": {},
   "outputs": [],
   "source": [
    "# Process hourly data. The order of variables needs to be the same as requested.\n",
    "hourly = response.Hourly()\n",
    "hourly_temperature_2m = hourly.Variables(0).ValuesAsNumpy()\n",
    "hourly_relative_humidity_2m = hourly.Variables(1).ValuesAsNumpy()"
   ]
  },
  {
   "cell_type": "code",
   "execution_count": 16,
   "id": "351e9bc1-b36f-4cb6-bb7a-988becfbe3ec",
   "metadata": {},
   "outputs": [],
   "source": [
    "hourly_data = {\"date\": pd.date_range(\n",
    "\tstart = pd.to_datetime(hourly.Time(), unit = \"s\", utc = True),\n",
    "\tend = pd.to_datetime(hourly.TimeEnd(), unit = \"s\", utc = True),\n",
    "\tfreq = pd.Timedelta(seconds = hourly.Interval()),\n",
    "\tinclusive = \"left\"\n",
    ")}"
   ]
  },
  {
   "cell_type": "code",
   "execution_count": 17,
   "id": "ad9c6c4e-dc9a-4114-8837-2461e23a02be",
   "metadata": {},
   "outputs": [],
   "source": [
    "hourly_data[\"temperature_2m\"] = hourly_temperature_2m\n",
    "hourly_data[\"relative_humidity_2m\"] = hourly_relative_humidity_2m"
   ]
  },
  {
   "cell_type": "code",
   "execution_count": 18,
   "id": "c4c8a6e1-0007-4d0d-8a97-1feb689836a7",
   "metadata": {},
   "outputs": [
    {
     "data": {
      "text/html": [
       "<div>\n",
       "<style scoped>\n",
       "    .dataframe tbody tr th:only-of-type {\n",
       "        vertical-align: middle;\n",
       "    }\n",
       "\n",
       "    .dataframe tbody tr th {\n",
       "        vertical-align: top;\n",
       "    }\n",
       "\n",
       "    .dataframe thead th {\n",
       "        text-align: right;\n",
       "    }\n",
       "</style>\n",
       "<table border=\"1\" class=\"dataframe\">\n",
       "  <thead>\n",
       "    <tr style=\"text-align: right;\">\n",
       "      <th></th>\n",
       "      <th>date</th>\n",
       "      <th>temperature_2m</th>\n",
       "      <th>relative_humidity_2m</th>\n",
       "    </tr>\n",
       "  </thead>\n",
       "  <tbody>\n",
       "    <tr>\n",
       "      <th>139</th>\n",
       "      <td>2024-12-17 19:00:00+00:00</td>\n",
       "      <td>11.422</td>\n",
       "      <td>79.0</td>\n",
       "    </tr>\n",
       "    <tr>\n",
       "      <th>140</th>\n",
       "      <td>2024-12-17 20:00:00+00:00</td>\n",
       "      <td>10.522</td>\n",
       "      <td>82.0</td>\n",
       "    </tr>\n",
       "    <tr>\n",
       "      <th>141</th>\n",
       "      <td>2024-12-17 21:00:00+00:00</td>\n",
       "      <td>9.972</td>\n",
       "      <td>84.0</td>\n",
       "    </tr>\n",
       "    <tr>\n",
       "      <th>142</th>\n",
       "      <td>2024-12-17 22:00:00+00:00</td>\n",
       "      <td>9.722</td>\n",
       "      <td>85.0</td>\n",
       "    </tr>\n",
       "    <tr>\n",
       "      <th>143</th>\n",
       "      <td>2024-12-17 23:00:00+00:00</td>\n",
       "      <td>9.572</td>\n",
       "      <td>87.0</td>\n",
       "    </tr>\n",
       "  </tbody>\n",
       "</table>\n",
       "</div>"
      ],
      "text/plain": [
       "                         date  temperature_2m  relative_humidity_2m\n",
       "139 2024-12-17 19:00:00+00:00          11.422                  79.0\n",
       "140 2024-12-17 20:00:00+00:00          10.522                  82.0\n",
       "141 2024-12-17 21:00:00+00:00           9.972                  84.0\n",
       "142 2024-12-17 22:00:00+00:00           9.722                  85.0\n",
       "143 2024-12-17 23:00:00+00:00           9.572                  87.0"
      ]
     },
     "execution_count": 18,
     "metadata": {},
     "output_type": "execute_result"
    }
   ],
   "source": [
    "hourly_dataframe = pd.DataFrame(data = hourly_data)\n",
    "hourly_dataframe.tail()"
   ]
  },
  {
   "cell_type": "code",
   "execution_count": 19,
   "id": "8a7f637c-7986-4f0b-b2de-4470bdbbea45",
   "metadata": {},
   "outputs": [],
   "source": [
    "# # Load the YAML file\n",
    "# with open(\"config.yml\", \"r\") as file:\n",
    "#     config = yaml.safe_load(file)\n",
    "\n",
    "# # Access config data\n",
    "# data_path = config['raw_data']\n",
    "\n",
    "# hourly_dataframe.to_csv(data_path+'raw_weather_data.csv', index=False) "
   ]
  },
  {
   "cell_type": "code",
   "execution_count": 20,
   "id": "db717260-c507-4e01-9a8d-bea556e9947a",
   "metadata": {},
   "outputs": [],
   "source": [
    "def fetch_sunrise_sunset(lat, lon, date):\n",
    "    \"\"\"\n",
    "    Fetch sunrise and sunset times for a given latitude, longitude, and date using Sunrise-Sunset API.\n",
    "    \"\"\"\n",
    "    \n",
    "    url = \"https://api.sunrise-sunset.org/json\"\n",
    "    params = {\n",
    "        'lat': lat,\n",
    "        'lng': lon,\n",
    "        'date': date,\n",
    "        'formatted': 0  # Return times in ISO 8601 format (UTC)\n",
    "    }\n",
    "    response = requests.get(url, params=params)\n",
    "    \n",
    "    if response.status_code == 200:\n",
    "        data = response.json()\n",
    "        if data['status'] == 'OK':\n",
    "            return {\n",
    "                'date': date,\n",
    "                'sunrise': data['results']['sunrise'],\n",
    "                'sunset': data['results']['sunset']\n",
    "            }\n",
    "        else:\n",
    "            print(f\"Error: {data['status']}\")\n",
    "            return None\n",
    "    else:\n",
    "        print(f\"HTTP Error: {response.status_code}\")\n",
    "        return None"
   ]
  },
  {
   "cell_type": "code",
   "execution_count": 21,
   "id": "34391727-ec81-4280-95c8-7ef30a9f5c5b",
   "metadata": {},
   "outputs": [],
   "source": [
    "def fetch_sunrise_sunset_range(lat, lon, start_date, end_date):\n",
    "    \"\"\"\n",
    "    Fetch sunrise and sunset times for a range of dates.\n",
    "    \"\"\"\n",
    "    # Convert start_date and end_date to datetime.date objects if they are strings\n",
    "    if isinstance(start_date, str):\n",
    "        start_date = datetime.datetime.strptime(start_date, \"%Y-%m-%d\").date()\n",
    "    if isinstance(end_date, str):\n",
    "        end_date = datetime.strptime(end_date, \"%Y-%m-%d\").date()\n",
    "\n",
    "    # Ensure current_date starts as a datetime.date object\n",
    "    current_date = start_date\n",
    "    results = []\n",
    "\n",
    "    while current_date <= end_date:\n",
    "        print(f\"Fetching data for {current_date}...\")\n",
    "        # Pass the date as a string in 'YYYY-MM-DD' format to the fetch function\n",
    "        date_str = current_date.strftime(\"%Y-%m-%d\")\n",
    "        data = fetch_sunrise_sunset(lat, lon, date_str)\n",
    "        if data:\n",
    "            results.append(data)\n",
    "        # Increment current_date by one day\n",
    "        current_date += datetime.timedelta(days=1)\n",
    "\n",
    "    return results"
   ]
  },
  {
   "cell_type": "code",
   "execution_count": 22,
   "id": "7bf6b5fd-b72f-4c22-97c6-5e01d1a1e1d2",
   "metadata": {},
   "outputs": [],
   "source": [
    "get_sunset = fetch_sunrise_sunset(lat, long, \"2024-12-10\")"
   ]
  },
  {
   "cell_type": "code",
   "execution_count": 23,
   "id": "25f143e4-3039-44a8-9c7c-3210cde73254",
   "metadata": {},
   "outputs": [
    {
     "data": {
      "text/plain": [
       "{'date': '2024-12-10',\n",
       " 'sunrise': '2024-12-10T07:40:50+00:00',\n",
       " 'sunset': '2024-12-10T17:10:58+00:00'}"
      ]
     },
     "execution_count": 23,
     "metadata": {},
     "output_type": "execute_result"
    }
   ],
   "source": [
    "get_sunset"
   ]
  },
  {
   "cell_type": "code",
   "execution_count": 24,
   "id": "6c3d07a0-b04c-43fd-a017-7112349bb5a0",
   "metadata": {},
   "outputs": [],
   "source": [
    "start_date = \"1990-01-01\"\n",
    "end_date = \"2024-12-14\""
   ]
  },
  {
   "cell_type": "code",
   "execution_count": 25,
   "id": "972cba8a-0359-4cc9-b9de-7c62bb613799",
   "metadata": {},
   "outputs": [
    {
     "ename": "AttributeError",
     "evalue": "type object 'datetime.datetime' has no attribute 'datetime'",
     "output_type": "error",
     "traceback": [
      "\u001b[0;31m---------------------------------------------------------------------------\u001b[0m",
      "\u001b[0;31mAttributeError\u001b[0m                            Traceback (most recent call last)",
      "Cell \u001b[0;32mIn[25], line 1\u001b[0m\n\u001b[0;32m----> 1\u001b[0m \u001b[43mfetch_sunrise_sunset_range\u001b[49m\u001b[43m(\u001b[49m\u001b[43mlat\u001b[49m\u001b[43m,\u001b[49m\u001b[43m \u001b[49m\u001b[43mlong\u001b[49m\u001b[43m,\u001b[49m\u001b[43m \u001b[49m\u001b[43mstart_date\u001b[49m\u001b[43m,\u001b[49m\u001b[43m \u001b[49m\u001b[43mend_date\u001b[49m\u001b[43m)\u001b[49m\n",
      "Cell \u001b[0;32mIn[21], line 7\u001b[0m, in \u001b[0;36mfetch_sunrise_sunset_range\u001b[0;34m(lat, lon, start_date, end_date)\u001b[0m\n\u001b[1;32m      5\u001b[0m \u001b[38;5;66;03m# Convert start_date and end_date to datetime.date objects if they are strings\u001b[39;00m\n\u001b[1;32m      6\u001b[0m \u001b[38;5;28;01mif\u001b[39;00m \u001b[38;5;28misinstance\u001b[39m(start_date, \u001b[38;5;28mstr\u001b[39m):\n\u001b[0;32m----> 7\u001b[0m     start_date \u001b[38;5;241m=\u001b[39m \u001b[43mdatetime\u001b[49m\u001b[38;5;241;43m.\u001b[39;49m\u001b[43mdatetime\u001b[49m\u001b[38;5;241m.\u001b[39mstrptime(start_date, \u001b[38;5;124m\"\u001b[39m\u001b[38;5;124m%\u001b[39m\u001b[38;5;124mY-\u001b[39m\u001b[38;5;124m%\u001b[39m\u001b[38;5;124mm-\u001b[39m\u001b[38;5;132;01m%d\u001b[39;00m\u001b[38;5;124m\"\u001b[39m)\u001b[38;5;241m.\u001b[39mdate()\n\u001b[1;32m      8\u001b[0m \u001b[38;5;28;01mif\u001b[39;00m \u001b[38;5;28misinstance\u001b[39m(end_date, \u001b[38;5;28mstr\u001b[39m):\n\u001b[1;32m      9\u001b[0m     end_date \u001b[38;5;241m=\u001b[39m datetime\u001b[38;5;241m.\u001b[39mdatetime\u001b[38;5;241m.\u001b[39mstrptime(end_date, \u001b[38;5;124m\"\u001b[39m\u001b[38;5;124m%\u001b[39m\u001b[38;5;124mY-\u001b[39m\u001b[38;5;124m%\u001b[39m\u001b[38;5;124mm-\u001b[39m\u001b[38;5;132;01m%d\u001b[39;00m\u001b[38;5;124m\"\u001b[39m)\u001b[38;5;241m.\u001b[39mdate()\n",
      "\u001b[0;31mAttributeError\u001b[0m: type object 'datetime.datetime' has no attribute 'datetime'"
     ]
    }
   ],
   "source": [
    "fetch_sunrise_sunset_range(lat, long, start_date, end_date)"
   ]
  },
  {
   "cell_type": "code",
   "execution_count": 28,
   "id": "ebf94669-3922-416e-8e48-94ac0fe05f19",
   "metadata": {},
   "outputs": [
    {
     "data": {
      "text/plain": [
       "'1990-01-01'"
      ]
     },
     "execution_count": 28,
     "metadata": {},
     "output_type": "execute_result"
    }
   ],
   "source": [
    "start_date"
   ]
  },
  {
   "cell_type": "code",
   "execution_count": null,
   "id": "8e7321ec-4e08-4ff2-acf2-d47903709c36",
   "metadata": {},
   "outputs": [],
   "source": []
  }
 ],
 "metadata": {
  "kernelspec": {
   "display_name": "Python 3 (ipykernel)",
   "language": "python",
   "name": "python3"
  },
  "language_info": {
   "codemirror_mode": {
    "name": "ipython",
    "version": 3
   },
   "file_extension": ".py",
   "mimetype": "text/x-python",
   "name": "python",
   "nbconvert_exporter": "python",
   "pygments_lexer": "ipython3",
   "version": "3.12.6"
  }
 },
 "nbformat": 4,
 "nbformat_minor": 5
}
